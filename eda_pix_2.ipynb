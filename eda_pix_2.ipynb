{
 "cells": [
  {
   "cell_type": "markdown",
   "id": "9ab91968",
   "metadata": {},
   "source": [
    "# Análise Exploratória  de Usuários de Chaves PIX"
   ]
  },
  {
   "cell_type": "markdown",
   "id": "1ab57b86",
   "metadata": {},
   "source": [
    "# Problema de Negócio\n",
    "\n",
    "O PIX é um sistema de pagamentos instantâneos desenvolvido pelo Banco Central do Brasil, Ele revolucionou a forma como pessoas e empresas realizam transações financeiras, permitindo transferências e pagamentos em tempo real, 24 horas por dia, sete dias por semana, de maneira rápida, segura e praticamente gratuita.\n",
    "\n",
    "Com a adoção massiva do PIX, uma grande quantidade de dados sobre chaves registradas foi gerada. Essas chaves são elementos essenciais do sistema, podendo ser CPF, CNPJ, número de telefone, e-mail ou uma chave aleatória, que identificam a conta do usuário. A análise desses dados oferece uma visão valiosa sobre o uso do PIX e ajuda a responder a várias perguntas de negócio cruciais para instituições financeiras, reguladores e analistas de mercado.\n",
    "\n",
    "Nesta análise, exploramos as seguintes questões de negócio relacionadas ao registro de chaves PIX:\n",
    "\n",
    "Quantas chaves PIX são registradas por cada instituição?\n",
    "\n",
    "Objetivo: Identificar quais instituições financeiras possuem o maior número de chaves registradas. Isso ajuda a entender a penetração e a popularidade do PIX entre diferentes bancos e instituições de pagamento.\n",
    "Qual é a distribuição de chaves PIX por tipo de chave (TipoChave)?\n",
    "\n",
    "Objetivo: Analisar quais tipos de chave (CPF, CNPJ, telefone, e-mail, chave aleatória) são mais populares entre os usuários. Essa informação pode ser usada para direcionar estratégias de marketing e melhorar a experiência do usuário.\n",
    "Quantidade total de chaves cadastrada por instituição?\n",
    "\n",
    "Objetivo: Avaliar o desempenho de cada instituição financeira na adoção do PIX, destacando aquelas que lideram em termos de quantidade total de chaves cadastradas.\n",
    "Quais são os picos e quedas no registro de chaves PIX por dia?\n",
    "\n",
    "Objetivo: Identificar padrões sazonais e eventuais eventos que influenciam o registro de chaves. Esta análise pode revelar o impacto de campanhas de marketing, mudanças regulatórias ou outros fatores externos.\n",
    "Top 50 em cadastramento de chaves por natureza (NaturezaUsuario)\n",
    "\n",
    "Objetivo: Examinar quais são as principais instituições em termos de número de chaves cadastradas, segmentadas por natureza do usuário (pessoa física ou jurídica). Isso fornece insights sobre a base de clientes e a estratégia de diferentes instituições.\n",
    "Ao investigar essas questões, podemos obter uma compreensão mais profunda do comportamento dos usuários e da eficiência das instituições no ecossistema do PIX. Os resultados dessas análises são fundamentais para apoiar decisões estratégicas, otimizar operações e melhorar a satisfação do cliente.\n",
    "\n",
    "\n"
   ]
  },
  {
   "cell_type": "markdown",
   "id": "5dd0de33",
   "metadata": {},
   "source": [
    "## Fonte dos dados\n",
    "\n",
    "Os dados foram coletados no banco de dados do Banco Central do Brasil, disponivel em :\n",
    "\n",
    "https://olinda.bcb.gov.br/olinda/servico/Pix_DadosAbertos/versao/v1/odata/ChavesPix(Data=@Data)?@Data='2023-01-31'&$top=50000&$format=text/csv&$select=Data,ISPB,Nome,NaturezaUsuario,TipoChave,qtdChave\n",
    "\n",
    "O Periodo analisado foi de 31 de janeiro de 2023 a 31 de maio de 2024"
   ]
  },
  {
   "cell_type": "markdown",
   "id": "b771e5bf",
   "metadata": {},
   "source": [
    "## EDA-ANÁLISE EXPLORATÓRIA DOS DADOS"
   ]
  },
  {
   "cell_type": "code",
   "execution_count": 1,
   "id": "09392746",
   "metadata": {},
   "outputs": [],
   "source": [
    "# iMPORTAÇÃO DAS BIBLIOTECAS \n",
    "import pandas as pd # importando algumas biblotecas\n",
    "import numpy as np\n",
    "import matplotlib.pyplot as plt\n",
    "from matplotlib import dates\n",
    "from datetime import datetime\n",
    "import sklearn \n",
    "import seaborn as sns\n",
    "import plotly.express as px"
   ]
  },
  {
   "cell_type": "code",
   "execution_count": 2,
   "id": "64e2a1c9",
   "metadata": {},
   "outputs": [
    {
     "data": {
      "text/plain": [
       "Renderers configuration\n",
       "-----------------------\n",
       "    Default renderer: 'plotly_mimetype+notebook'\n",
       "    Available renderers:\n",
       "        ['plotly_mimetype', 'jupyterlab', 'nteract', 'vscode',\n",
       "         'notebook', 'notebook_connected', 'kaggle', 'azure', 'colab',\n",
       "         'cocalc', 'databricks', 'json', 'png', 'jpeg', 'jpg', 'svg',\n",
       "         'pdf', 'browser', 'firefox', 'chrome', 'chromium', 'iframe',\n",
       "         'iframe_connected', 'sphinx_gallery', 'sphinx_gallery_png']"
      ]
     },
     "execution_count": 2,
     "metadata": {},
     "output_type": "execute_result"
    }
   ],
   "source": [
    "import plotly.io as pio\n",
    "pio.renderers\n"
   ]
  },
  {
   "cell_type": "code",
   "execution_count": 3,
   "id": "b8beacfe",
   "metadata": {},
   "outputs": [],
   "source": [
    "pio.renderers.default = \"png\" # visualizar em outra IDE"
   ]
  },
  {
   "cell_type": "code",
   "execution_count": 4,
   "id": "c98c7b60",
   "metadata": {},
   "outputs": [
    {
     "data": {
      "text/html": [
       "<div>\n",
       "<style scoped>\n",
       "    .dataframe tbody tr th:only-of-type {\n",
       "        vertical-align: middle;\n",
       "    }\n",
       "\n",
       "    .dataframe tbody tr th {\n",
       "        vertical-align: top;\n",
       "    }\n",
       "\n",
       "    .dataframe thead th {\n",
       "        text-align: right;\n",
       "    }\n",
       "</style>\n",
       "<table border=\"1\" class=\"dataframe\">\n",
       "  <thead>\n",
       "    <tr style=\"text-align: right;\">\n",
       "      <th></th>\n",
       "      <th>Data</th>\n",
       "      <th>ISPB</th>\n",
       "      <th>Nome</th>\n",
       "      <th>NaturezaUsuario</th>\n",
       "      <th>TipoChave</th>\n",
       "      <th>qtdChaves</th>\n",
       "    </tr>\n",
       "  </thead>\n",
       "  <tbody>\n",
       "    <tr>\n",
       "      <th>0</th>\n",
       "      <td>2023-05-31</td>\n",
       "      <td>16695922</td>\n",
       "      <td>ID CTVM</td>\n",
       "      <td>PF</td>\n",
       "      <td>Aleatória</td>\n",
       "      <td>5</td>\n",
       "    </tr>\n",
       "    <tr>\n",
       "      <th>1</th>\n",
       "      <td>2024-02-29</td>\n",
       "      <td>6139650</td>\n",
       "      <td>COOP CRESOL RIO GRANDE DO SUL</td>\n",
       "      <td>PF</td>\n",
       "      <td>e-mail</td>\n",
       "      <td>822</td>\n",
       "    </tr>\n",
       "    <tr>\n",
       "      <th>2</th>\n",
       "      <td>2023-02-28</td>\n",
       "      <td>7440317</td>\n",
       "      <td>CC SICOOB CREDMED</td>\n",
       "      <td>PJ</td>\n",
       "      <td>Celular</td>\n",
       "      <td>1</td>\n",
       "    </tr>\n",
       "  </tbody>\n",
       "</table>\n",
       "</div>"
      ],
      "text/plain": [
       "         Data      ISPB                           Nome NaturezaUsuario  \\\n",
       "0  2023-05-31  16695922                        ID CTVM              PF   \n",
       "1  2024-02-29   6139650  COOP CRESOL RIO GRANDE DO SUL              PF   \n",
       "2  2023-02-28   7440317              CC SICOOB CREDMED              PJ   \n",
       "\n",
       "   TipoChave  qtdChaves  \n",
       "0  Aleatória          5  \n",
       "1     e-mail        822  \n",
       "2    Celular          1  "
      ]
     },
     "execution_count": 4,
     "metadata": {},
     "output_type": "execute_result"
    }
   ],
   "source": [
    "\n",
    "# lendo dataset\n",
    "df=pd.read_csv(\"Estoque de Chaves Pix por Participante (1).csv\") # lendo arquivos\n",
    "\n",
    "df.head(3)"
   ]
  },
  {
   "cell_type": "markdown",
   "id": "44274460",
   "metadata": {},
   "source": [
    "#### Qual o periodo do análises?"
   ]
  },
  {
   "cell_type": "code",
   "execution_count": 5,
   "id": "11d326d2",
   "metadata": {},
   "outputs": [
    {
     "name": "stdout",
     "output_type": "stream",
     "text": [
      "data maxima 2024-05-31\n",
      "data minima 2023-01-31\n"
     ]
    }
   ],
   "source": [
    "print('data maxima',df.Data.max())\n",
    "print('data minima',df.Data.min())"
   ]
  },
  {
   "cell_type": "code",
   "execution_count": 6,
   "id": "f265b659",
   "metadata": {},
   "outputs": [
    {
     "name": "stdout",
     "output_type": "stream",
     "text": [
      "<class 'pandas.core.frame.DataFrame'>\n",
      "RangeIndex: 98833 entries, 0 to 98832\n",
      "Data columns (total 6 columns):\n",
      " #   Column           Non-Null Count  Dtype \n",
      "---  ------           --------------  ----- \n",
      " 0   Data             98833 non-null  object\n",
      " 1   ISPB             98833 non-null  int64 \n",
      " 2   Nome             98833 non-null  object\n",
      " 3   NaturezaUsuario  98833 non-null  object\n",
      " 4   TipoChave        98833 non-null  object\n",
      " 5   qtdChaves        98833 non-null  int64 \n",
      "dtypes: int64(2), object(4)\n",
      "memory usage: 4.5+ MB\n"
     ]
    }
   ],
   "source": [
    "\n",
    "df.info() # busca informaçoes preliminares do dataset"
   ]
  },
  {
   "cell_type": "code",
   "execution_count": 7,
   "id": "186c9eb2",
   "metadata": {},
   "outputs": [
    {
     "data": {
      "text/plain": [
       "Data               0.0\n",
       "ISPB               0.0\n",
       "Nome               0.0\n",
       "NaturezaUsuario    0.0\n",
       "TipoChave          0.0\n",
       "qtdChaves          0.0\n",
       "dtype: float64"
      ]
     },
     "execution_count": 7,
     "metadata": {},
     "output_type": "execute_result"
    }
   ],
   "source": [
    "\n",
    "df.isnull().mean() # verificando dados nulos"
   ]
  },
  {
   "cell_type": "code",
   "execution_count": 8,
   "id": "b537ab07",
   "metadata": {},
   "outputs": [
    {
     "name": "stdout",
     "output_type": "stream",
     "text": [
      "<class 'pandas.core.frame.DataFrame'>\n",
      "RangeIndex: 98833 entries, 0 to 98832\n",
      "Data columns (total 6 columns):\n",
      " #   Column           Non-Null Count  Dtype         \n",
      "---  ------           --------------  -----         \n",
      " 0   Data             98833 non-null  datetime64[ns]\n",
      " 1   ISPB             98833 non-null  int64         \n",
      " 2   Nome             98833 non-null  object        \n",
      " 3   NaturezaUsuario  98833 non-null  object        \n",
      " 4   TipoChave        98833 non-null  object        \n",
      " 5   qtdChaves        98833 non-null  int64         \n",
      "dtypes: datetime64[ns](1), int64(2), object(3)\n",
      "memory usage: 4.5+ MB\n"
     ]
    }
   ],
   "source": [
    "df['Data'] =  pd.to_datetime(df['Data']) # transformando date no formato de data\n",
    "df.info()\n"
   ]
  },
  {
   "cell_type": "code",
   "execution_count": 9,
   "id": "361c35bc",
   "metadata": {},
   "outputs": [
    {
     "data": {
      "text/html": [
       "<div>\n",
       "<style scoped>\n",
       "    .dataframe tbody tr th:only-of-type {\n",
       "        vertical-align: middle;\n",
       "    }\n",
       "\n",
       "    .dataframe tbody tr th {\n",
       "        vertical-align: top;\n",
       "    }\n",
       "\n",
       "    .dataframe thead th {\n",
       "        text-align: right;\n",
       "    }\n",
       "</style>\n",
       "<table border=\"1\" class=\"dataframe\">\n",
       "  <thead>\n",
       "    <tr style=\"text-align: right;\">\n",
       "      <th></th>\n",
       "      <th>Data</th>\n",
       "      <th>ISPB</th>\n",
       "      <th>Nome</th>\n",
       "      <th>NaturezaUsuario</th>\n",
       "      <th>TipoChave</th>\n",
       "      <th>qtdChaves</th>\n",
       "      <th>Dia</th>\n",
       "      <th>Mes</th>\n",
       "      <th>Ano</th>\n",
       "    </tr>\n",
       "  </thead>\n",
       "  <tbody>\n",
       "    <tr>\n",
       "      <th>0</th>\n",
       "      <td>2023-05-31</td>\n",
       "      <td>16695922</td>\n",
       "      <td>ID CTVM</td>\n",
       "      <td>PF</td>\n",
       "      <td>Aleatória</td>\n",
       "      <td>5</td>\n",
       "      <td>31</td>\n",
       "      <td>5</td>\n",
       "      <td>2023</td>\n",
       "    </tr>\n",
       "    <tr>\n",
       "      <th>1</th>\n",
       "      <td>2024-02-29</td>\n",
       "      <td>6139650</td>\n",
       "      <td>COOP CRESOL RIO GRANDE DO SUL</td>\n",
       "      <td>PF</td>\n",
       "      <td>e-mail</td>\n",
       "      <td>822</td>\n",
       "      <td>29</td>\n",
       "      <td>2</td>\n",
       "      <td>2024</td>\n",
       "    </tr>\n",
       "    <tr>\n",
       "      <th>2</th>\n",
       "      <td>2023-02-28</td>\n",
       "      <td>7440317</td>\n",
       "      <td>CC SICOOB CREDMED</td>\n",
       "      <td>PJ</td>\n",
       "      <td>Celular</td>\n",
       "      <td>1</td>\n",
       "      <td>28</td>\n",
       "      <td>2</td>\n",
       "      <td>2023</td>\n",
       "    </tr>\n",
       "    <tr>\n",
       "      <th>3</th>\n",
       "      <td>2023-05-31</td>\n",
       "      <td>58022195</td>\n",
       "      <td>CECM EMPR EMP ZILLO LORENZETTI</td>\n",
       "      <td>PF</td>\n",
       "      <td>Celular</td>\n",
       "      <td>239</td>\n",
       "      <td>31</td>\n",
       "      <td>5</td>\n",
       "      <td>2023</td>\n",
       "    </tr>\n",
       "    <tr>\n",
       "      <th>4</th>\n",
       "      <td>2023-12-31</td>\n",
       "      <td>42898825</td>\n",
       "      <td>CECM MEDICOS E PROFISSIONAIS AREA SAUDE DO BRASIL</td>\n",
       "      <td>PJ</td>\n",
       "      <td>e-mail</td>\n",
       "      <td>1516</td>\n",
       "      <td>31</td>\n",
       "      <td>12</td>\n",
       "      <td>2023</td>\n",
       "    </tr>\n",
       "    <tr>\n",
       "      <th>...</th>\n",
       "      <td>...</td>\n",
       "      <td>...</td>\n",
       "      <td>...</td>\n",
       "      <td>...</td>\n",
       "      <td>...</td>\n",
       "      <td>...</td>\n",
       "      <td>...</td>\n",
       "      <td>...</td>\n",
       "      <td>...</td>\n",
       "    </tr>\n",
       "    <tr>\n",
       "      <th>98828</th>\n",
       "      <td>2024-03-31</td>\n",
       "      <td>25387713</td>\n",
       "      <td>CCLA DA REGIÃO DE  PARÁ DE MINAS</td>\n",
       "      <td>PJ</td>\n",
       "      <td>e-mail</td>\n",
       "      <td>189</td>\n",
       "      <td>31</td>\n",
       "      <td>3</td>\n",
       "      <td>2024</td>\n",
       "    </tr>\n",
       "    <tr>\n",
       "      <th>98829</th>\n",
       "      <td>2023-05-31</td>\n",
       "      <td>20855875</td>\n",
       "      <td>NEON PAGAMENTOS S.A. IP</td>\n",
       "      <td>PJ</td>\n",
       "      <td>CNPJ</td>\n",
       "      <td>449314</td>\n",
       "      <td>31</td>\n",
       "      <td>5</td>\n",
       "      <td>2023</td>\n",
       "    </tr>\n",
       "    <tr>\n",
       "      <th>98830</th>\n",
       "      <td>2023-05-31</td>\n",
       "      <td>20855875</td>\n",
       "      <td>NEON PAGAMENTOS S.A. IP</td>\n",
       "      <td>PF</td>\n",
       "      <td>e-mail</td>\n",
       "      <td>1499677</td>\n",
       "      <td>31</td>\n",
       "      <td>5</td>\n",
       "      <td>2023</td>\n",
       "    </tr>\n",
       "    <tr>\n",
       "      <th>98831</th>\n",
       "      <td>2023-05-31</td>\n",
       "      <td>20855875</td>\n",
       "      <td>NEON PAGAMENTOS S.A. IP</td>\n",
       "      <td>PJ</td>\n",
       "      <td>e-mail</td>\n",
       "      <td>92915</td>\n",
       "      <td>31</td>\n",
       "      <td>5</td>\n",
       "      <td>2023</td>\n",
       "    </tr>\n",
       "    <tr>\n",
       "      <th>98832</th>\n",
       "      <td>2023-05-31</td>\n",
       "      <td>20855875</td>\n",
       "      <td>NEON PAGAMENTOS S.A. IP</td>\n",
       "      <td>PJ</td>\n",
       "      <td>Celular</td>\n",
       "      <td>83274</td>\n",
       "      <td>31</td>\n",
       "      <td>5</td>\n",
       "      <td>2023</td>\n",
       "    </tr>\n",
       "  </tbody>\n",
       "</table>\n",
       "<p>98833 rows × 9 columns</p>\n",
       "</div>"
      ],
      "text/plain": [
       "            Data      ISPB                                               Nome  \\\n",
       "0     2023-05-31  16695922                                            ID CTVM   \n",
       "1     2024-02-29   6139650                      COOP CRESOL RIO GRANDE DO SUL   \n",
       "2     2023-02-28   7440317                                  CC SICOOB CREDMED   \n",
       "3     2023-05-31  58022195                     CECM EMPR EMP ZILLO LORENZETTI   \n",
       "4     2023-12-31  42898825  CECM MEDICOS E PROFISSIONAIS AREA SAUDE DO BRASIL   \n",
       "...          ...       ...                                                ...   \n",
       "98828 2024-03-31  25387713                   CCLA DA REGIÃO DE  PARÁ DE MINAS   \n",
       "98829 2023-05-31  20855875                            NEON PAGAMENTOS S.A. IP   \n",
       "98830 2023-05-31  20855875                            NEON PAGAMENTOS S.A. IP   \n",
       "98831 2023-05-31  20855875                            NEON PAGAMENTOS S.A. IP   \n",
       "98832 2023-05-31  20855875                            NEON PAGAMENTOS S.A. IP   \n",
       "\n",
       "      NaturezaUsuario  TipoChave  qtdChaves  Dia  Mes   Ano  \n",
       "0                  PF  Aleatória          5   31    5  2023  \n",
       "1                  PF     e-mail        822   29    2  2024  \n",
       "2                  PJ    Celular          1   28    2  2023  \n",
       "3                  PF    Celular        239   31    5  2023  \n",
       "4                  PJ     e-mail       1516   31   12  2023  \n",
       "...               ...        ...        ...  ...  ...   ...  \n",
       "98828              PJ     e-mail        189   31    3  2024  \n",
       "98829              PJ       CNPJ     449314   31    5  2023  \n",
       "98830              PF     e-mail    1499677   31    5  2023  \n",
       "98831              PJ     e-mail      92915   31    5  2023  \n",
       "98832              PJ    Celular      83274   31    5  2023  \n",
       "\n",
       "[98833 rows x 9 columns]"
      ]
     },
     "execution_count": 9,
     "metadata": {},
     "output_type": "execute_result"
    }
   ],
   "source": [
    "\n",
    "df[\"Dia\"]= pd.DatetimeIndex(df['Data']).day   # separando dia, mês e ano no dataframe\n",
    "df['Mes'] = pd.DatetimeIndex(df['Data']).month\n",
    "df['Ano'] = pd.DatetimeIndex(df['Data']).year\n",
    "df"
   ]
  },
  {
   "cell_type": "code",
   "execution_count": 10,
   "id": "400182d9",
   "metadata": {},
   "outputs": [
    {
     "name": "stdout",
     "output_type": "stream",
     "text": [
      "Value counts for column: Data\n",
      "2024-05-31    5926\n",
      "2024-04-30    5882\n",
      "2024-03-31    5861\n",
      "2024-02-29    5850\n",
      "2024-01-31    5825\n",
      "2023-07-31    5819\n",
      "2023-06-30    5811\n",
      "2023-12-31    5803\n",
      "2023-10-31    5802\n",
      "2023-11-30    5801\n",
      "2023-05-31    5796\n",
      "2023-09-30    5793\n",
      "2023-04-30    5791\n",
      "2023-08-31    5786\n",
      "2023-03-31    5777\n",
      "2023-02-28    5759\n",
      "2023-01-31    5751\n",
      "Name: Data, dtype: int64\n",
      "\n",
      "\n",
      "Value counts for column: ISPB\n",
      "16721078    136\n",
      "34088029    136\n",
      "39231527    136\n",
      "32995755    136\n",
      "43180355    136\n",
      "           ... \n",
      "20757199      2\n",
      "35858847      1\n",
      "12573115      1\n",
      "17768068      1\n",
      "31861005      1\n",
      "Name: ISPB, Length: 857, dtype: int64\n",
      "\n",
      "\n",
      "Value counts for column: Nome\n",
      "CC UNIÃO CENTRO OESTE LTDA     168\n",
      "COOP SICOOB CERRADO            136\n",
      "COOP SICREDI SUDOESTE MT/PA    136\n",
      "PEFISA S.A. - C.F.I.           136\n",
      "SICOOB CREDICONSUMO CC         136\n",
      "                              ... \n",
      "PAY4FUN IP S.A.                  2\n",
      "VIATECH                          1\n",
      "AGILE CORPORATION                1\n",
      "PINPAG                           1\n",
      "PRIMEPAG                         1\n",
      "Name: Nome, Length: 856, dtype: int64\n",
      "\n",
      "\n",
      "Value counts for column: NaturezaUsuario\n",
      "PF    50409\n",
      "PJ    48424\n",
      "Name: NaturezaUsuario, dtype: int64\n",
      "\n",
      "\n",
      "Value counts for column: TipoChave\n",
      "e-mail       25115\n",
      "Aleatória    24907\n",
      "Celular      24534\n",
      "CPF          12234\n",
      "CNPJ         12043\n",
      "Name: TipoChave, dtype: int64\n",
      "\n",
      "\n",
      "Value counts for column: qtdChaves\n",
      "1         2418\n",
      "2         1273\n",
      "3          915\n",
      "4          645\n",
      "5          529\n",
      "          ... \n",
      "8286         1\n",
      "66109        1\n",
      "337925       1\n",
      "37763        1\n",
      "83274        1\n",
      "Name: qtdChaves, Length: 18889, dtype: int64\n",
      "\n",
      "\n",
      "Value counts for column: Dia\n",
      "31    58146\n",
      "30    29078\n",
      "29     5850\n",
      "28     5759\n",
      "Name: Dia, dtype: int64\n",
      "\n",
      "\n",
      "Value counts for column: Mes\n",
      "5     11722\n",
      "4     11673\n",
      "3     11638\n",
      "2     11609\n",
      "1     11576\n",
      "7      5819\n",
      "6      5811\n",
      "12     5803\n",
      "10     5802\n",
      "11     5801\n",
      "9      5793\n",
      "8      5786\n",
      "Name: Mes, dtype: int64\n",
      "\n",
      "\n",
      "Value counts for column: Ano\n",
      "2023    69489\n",
      "2024    29344\n",
      "Name: Ano, dtype: int64\n",
      "\n",
      "\n"
     ]
    }
   ],
   "source": [
    "for column in df.columns:\n",
    "    print(f\"Value counts for column: {column}\")\n",
    "    print(df[column].value_counts())\n",
    "    print(\"\\n\")\n"
   ]
  },
  {
   "cell_type": "markdown",
   "id": "6258a1c7",
   "metadata": {},
   "source": [
    "#### Qual é a distribuição de chaves PIX por tipo de chave (TipoChave)?"
   ]
  },
  {
   "cell_type": "code",
   "execution_count": 11,
   "id": "1de1f1d1",
   "metadata": {},
   "outputs": [
    {
     "data": {
      "text/plain": [
       "e-mail       25.411553\n",
       "Aleatória    25.201097\n",
       "Celular      24.823692\n",
       "CPF          12.378457\n",
       "CNPJ         12.185201\n",
       "Name: TipoChave, dtype: float64"
      ]
     },
     "execution_count": 11,
     "metadata": {},
     "output_type": "execute_result"
    }
   ],
   "source": [
    "distribuicao_tipo_chave = df['TipoChave'].value_counts(normalize=True)*100\n",
    "\n",
    "distribuicao_tipo_chave"
   ]
  },
  {
   "cell_type": "markdown",
   "id": "6f9b9035",
   "metadata": {},
   "source": [
    "Emails , chaves aleatórias  e celular são as chaves mais usadas pelos usuários , isso devido a questão de segurança dos dados pessoaos"
   ]
  },
  {
   "cell_type": "code",
   "execution_count": 12,
   "id": "787da6a2",
   "metadata": {},
   "outputs": [
    {
     "data": {
      "image/png": "[encoded data removed]"
     },
     "metadata": {},
     "output_type": "display_data"
    }
   ],
   "source": [
    "distribuicao_tipo_chave = df['TipoChave'].value_counts(normalize=True)*100\n",
    "\n",
    "# Converter a série para um DataFrame para facilitar a plotagem\n",
    "distribuicao_tipo_chave_df = distribuicao_tipo_chave.reset_index()\n",
    "distribuicao_tipo_chave_df.columns = ['TipoChave', 'Count']\n",
    "\n",
    "# Criar o gráfico de barras\n",
    "fig = px.bar(distribuicao_tipo_chave_df, x='TipoChave', y='Count', \n",
    "             title='Distribuição de Chaves PIX por Tipo de Chave em %',\n",
    "             labels={'TipoChave': 'Tipo de Chave', 'Count': 'Quantidade'},\n",
    "             template='plotly_white')\n",
    "\n",
    "# Exibir o gráfico\n",
    "fig.show()"
   ]
  },
  {
   "cell_type": "markdown",
   "id": "88720640",
   "metadata": {},
   "source": [
    "Percebe-se que o CPF e CNPJ tem menos cadastros de chaver pix, talvez seja explicado por questões de segurança dos dados pessoais e da empresa"
   ]
  },
  {
   "cell_type": "markdown",
   "id": "5fc56875",
   "metadata": {},
   "source": [
    "### Quantidade total de chaves cadastrada por instituição"
   ]
  },
  {
   "cell_type": "code",
   "execution_count": 13,
   "id": "cd615f88",
   "metadata": {},
   "outputs": [
    {
     "data": {
      "text/html": [
       "<div>\n",
       "<style scoped>\n",
       "    .dataframe tbody tr th:only-of-type {\n",
       "        vertical-align: middle;\n",
       "    }\n",
       "\n",
       "    .dataframe tbody tr th {\n",
       "        vertical-align: top;\n",
       "    }\n",
       "\n",
       "    .dataframe thead th {\n",
       "        text-align: right;\n",
       "    }\n",
       "</style>\n",
       "<table border=\"1\" class=\"dataframe\">\n",
       "  <thead>\n",
       "    <tr style=\"text-align: right;\">\n",
       "      <th></th>\n",
       "      <th>Nome</th>\n",
       "      <th>qtdChaves</th>\n",
       "    </tr>\n",
       "  </thead>\n",
       "  <tbody>\n",
       "    <tr>\n",
       "      <th>720</th>\n",
       "      <td>NU PAGAMENTOS - IP</td>\n",
       "      <td>2205834041</td>\n",
       "    </tr>\n",
       "    <tr>\n",
       "      <th>95</th>\n",
       "      <td>CAIXA ECONOMICA FEDERAL</td>\n",
       "      <td>1877791867</td>\n",
       "    </tr>\n",
       "    <tr>\n",
       "      <th>742</th>\n",
       "      <td>PICPAY</td>\n",
       "      <td>941487817</td>\n",
       "    </tr>\n",
       "    <tr>\n",
       "      <th>41</th>\n",
       "      <td>BCO BRADESCO S.A.</td>\n",
       "      <td>848242701</td>\n",
       "    </tr>\n",
       "    <tr>\n",
       "      <th>731</th>\n",
       "      <td>PAGSEGURO INTERNET IP S.A.</td>\n",
       "      <td>603134292</td>\n",
       "    </tr>\n",
       "    <tr>\n",
       "      <th>...</th>\n",
       "      <td>...</td>\n",
       "      <td>...</td>\n",
       "    </tr>\n",
       "    <tr>\n",
       "      <th>752</th>\n",
       "      <td>RAS SERVIÇOS DIGITAIS LTDA.</td>\n",
       "      <td>3</td>\n",
       "    </tr>\n",
       "    <tr>\n",
       "      <th>694</th>\n",
       "      <td>IPC ADMINISTRACAO</td>\n",
       "      <td>3</td>\n",
       "    </tr>\n",
       "    <tr>\n",
       "      <th>845</th>\n",
       "      <td>VIATECH</td>\n",
       "      <td>1</td>\n",
       "    </tr>\n",
       "    <tr>\n",
       "      <th>744</th>\n",
       "      <td>PINPAG</td>\n",
       "      <td>1</td>\n",
       "    </tr>\n",
       "    <tr>\n",
       "      <th>748</th>\n",
       "      <td>PRIMEPAG</td>\n",
       "      <td>1</td>\n",
       "    </tr>\n",
       "  </tbody>\n",
       "</table>\n",
       "<p>856 rows × 2 columns</p>\n",
       "</div>"
      ],
      "text/plain": [
       "                            Nome   qtdChaves\n",
       "720           NU PAGAMENTOS - IP  2205834041\n",
       "95       CAIXA ECONOMICA FEDERAL  1877791867\n",
       "742                       PICPAY   941487817\n",
       "41             BCO BRADESCO S.A.   848242701\n",
       "731   PAGSEGURO INTERNET IP S.A.   603134292\n",
       "..                           ...         ...\n",
       "752  RAS SERVIÇOS DIGITAIS LTDA.           3\n",
       "694            IPC ADMINISTRACAO           3\n",
       "845                      VIATECH           1\n",
       "744                       PINPAG           1\n",
       "748                     PRIMEPAG           1\n",
       "\n",
       "[856 rows x 2 columns]"
      ]
     },
     "execution_count": 13,
     "metadata": {},
     "output_type": "execute_result"
    }
   ],
   "source": [
    "chaves_por_instituicao = df.groupby('Nome')['qtdChaves'].sum().reset_index()\n",
    "\n",
    "\n",
    "# Ordenar do maior para o menor\n",
    "chaves_por_instituicao = chaves_por_instituicao.sort_values(by='qtdChaves', ascending=False)\n",
    "\n",
    "chaves_por_instituicao"
   ]
  },
  {
   "cell_type": "code",
   "execution_count": 14,
   "id": "cbe881cf",
   "metadata": {},
   "outputs": [
    {
     "data": {
      "image/png": "[encoded data removed]"
     },
     "metadata": {},
     "output_type": "display_data"
    }
   ],
   "source": [
    "top_10_instituicoes = chaves_por_instituicao.head(10)\n",
    "\n",
    "fig = px.bar(top_10_instituicoes, x='Nome', y='qtdChaves', \n",
    "             title='Top 10 Instituições por Quantidade de Chaves PIX',\n",
    "             labels={'Nome': 'Instituição', 'qtdChaves': 'Quantidade de Chaves'},\n",
    "             template='plotly_white')\n",
    "fig.show()\n"
   ]
  },
  {
   "cell_type": "markdown",
   "id": "95368c74",
   "metadata": {},
   "source": [
    "Aqui já percebe-se que a nu_pagamentos, destaca-se em quantidade de chaves cadastrada  isso pode ser devido a sua popularidade ou até mesmo campanha de marketing, mas tem que ser verificados"
   ]
  },
  {
   "cell_type": "markdown",
   "id": "9e609bbe",
   "metadata": {},
   "source": [
    "### Qual total de chaves por tipo e instituição"
   ]
  },
  {
   "cell_type": "code",
   "execution_count": 15,
   "id": "7c59af45",
   "metadata": {
    "scrolled": true
   },
   "outputs": [
    {
     "name": "stderr",
     "output_type": "stream",
     "text": [
      "C:\\Users\\vanio\\AppData\\Local\\Temp\\ipykernel_5084\\1123169283.py:9: FutureWarning:\n",
      "\n",
      "Dropping of nuisance columns in DataFrame reductions (with 'numeric_only=None') is deprecated; in a future version this will raise TypeError.  Select only valid columns before calling the reduction.\n",
      "\n"
     ]
    },
    {
     "data": {
      "text/html": [
       "<div>\n",
       "<style scoped>\n",
       "    .dataframe tbody tr th:only-of-type {\n",
       "        vertical-align: middle;\n",
       "    }\n",
       "\n",
       "    .dataframe tbody tr th {\n",
       "        vertical-align: top;\n",
       "    }\n",
       "\n",
       "    .dataframe thead th {\n",
       "        text-align: right;\n",
       "    }\n",
       "</style>\n",
       "<table border=\"1\" class=\"dataframe\">\n",
       "  <thead>\n",
       "    <tr style=\"text-align: right;\">\n",
       "      <th>TipoChave</th>\n",
       "      <th>Nome</th>\n",
       "      <th>Aleatória</th>\n",
       "      <th>CNPJ</th>\n",
       "      <th>CPF</th>\n",
       "      <th>Celular</th>\n",
       "      <th>e-mail</th>\n",
       "      <th>Total</th>\n",
       "    </tr>\n",
       "  </thead>\n",
       "  <tbody>\n",
       "    <tr>\n",
       "      <th>720</th>\n",
       "      <td>NU PAGAMENTOS - IP</td>\n",
       "      <td>847752864.0</td>\n",
       "      <td>28324508.0</td>\n",
       "      <td>392373698.0</td>\n",
       "      <td>507757868.0</td>\n",
       "      <td>429625103.0</td>\n",
       "      <td>2.205834e+09</td>\n",
       "    </tr>\n",
       "    <tr>\n",
       "      <th>95</th>\n",
       "      <td>CAIXA ECONOMICA FEDERAL</td>\n",
       "      <td>781611449.0</td>\n",
       "      <td>8800410.0</td>\n",
       "      <td>541290208.0</td>\n",
       "      <td>345229300.0</td>\n",
       "      <td>200860500.0</td>\n",
       "      <td>1.877792e+09</td>\n",
       "    </tr>\n",
       "    <tr>\n",
       "      <th>742</th>\n",
       "      <td>PICPAY</td>\n",
       "      <td>627057860.0</td>\n",
       "      <td>320041.0</td>\n",
       "      <td>85836518.0</td>\n",
       "      <td>117633043.0</td>\n",
       "      <td>110640355.0</td>\n",
       "      <td>9.414878e+08</td>\n",
       "    </tr>\n",
       "    <tr>\n",
       "      <th>41</th>\n",
       "      <td>BCO BRADESCO S.A.</td>\n",
       "      <td>308284917.0</td>\n",
       "      <td>16917680.0</td>\n",
       "      <td>211873006.0</td>\n",
       "      <td>183419240.0</td>\n",
       "      <td>127747858.0</td>\n",
       "      <td>8.482427e+08</td>\n",
       "    </tr>\n",
       "    <tr>\n",
       "      <th>731</th>\n",
       "      <td>PAGSEGURO INTERNET IP S.A.</td>\n",
       "      <td>366892961.0</td>\n",
       "      <td>8685597.0</td>\n",
       "      <td>47657952.0</td>\n",
       "      <td>93215746.0</td>\n",
       "      <td>86682036.0</td>\n",
       "      <td>6.031343e+08</td>\n",
       "    </tr>\n",
       "    <tr>\n",
       "      <th>...</th>\n",
       "      <td>...</td>\n",
       "      <td>...</td>\n",
       "      <td>...</td>\n",
       "      <td>...</td>\n",
       "      <td>...</td>\n",
       "      <td>...</td>\n",
       "      <td>...</td>\n",
       "    </tr>\n",
       "    <tr>\n",
       "      <th>752</th>\n",
       "      <td>RAS SERVIÇOS DIGITAIS LTDA.</td>\n",
       "      <td>0.0</td>\n",
       "      <td>0.0</td>\n",
       "      <td>0.0</td>\n",
       "      <td>0.0</td>\n",
       "      <td>3.0</td>\n",
       "      <td>3.000000e+00</td>\n",
       "    </tr>\n",
       "    <tr>\n",
       "      <th>694</th>\n",
       "      <td>IPC ADMINISTRACAO</td>\n",
       "      <td>3.0</td>\n",
       "      <td>0.0</td>\n",
       "      <td>0.0</td>\n",
       "      <td>0.0</td>\n",
       "      <td>0.0</td>\n",
       "      <td>3.000000e+00</td>\n",
       "    </tr>\n",
       "    <tr>\n",
       "      <th>845</th>\n",
       "      <td>VIATECH</td>\n",
       "      <td>1.0</td>\n",
       "      <td>0.0</td>\n",
       "      <td>0.0</td>\n",
       "      <td>0.0</td>\n",
       "      <td>0.0</td>\n",
       "      <td>1.000000e+00</td>\n",
       "    </tr>\n",
       "    <tr>\n",
       "      <th>744</th>\n",
       "      <td>PINPAG</td>\n",
       "      <td>1.0</td>\n",
       "      <td>0.0</td>\n",
       "      <td>0.0</td>\n",
       "      <td>0.0</td>\n",
       "      <td>0.0</td>\n",
       "      <td>1.000000e+00</td>\n",
       "    </tr>\n",
       "    <tr>\n",
       "      <th>748</th>\n",
       "      <td>PRIMEPAG</td>\n",
       "      <td>1.0</td>\n",
       "      <td>0.0</td>\n",
       "      <td>0.0</td>\n",
       "      <td>0.0</td>\n",
       "      <td>0.0</td>\n",
       "      <td>1.000000e+00</td>\n",
       "    </tr>\n",
       "  </tbody>\n",
       "</table>\n",
       "<p>856 rows × 7 columns</p>\n",
       "</div>"
      ],
      "text/plain": [
       "TipoChave                         Nome    Aleatória        CNPJ          CPF  \\\n",
       "720                 NU PAGAMENTOS - IP  847752864.0  28324508.0  392373698.0   \n",
       "95             CAIXA ECONOMICA FEDERAL  781611449.0   8800410.0  541290208.0   \n",
       "742                             PICPAY  627057860.0    320041.0   85836518.0   \n",
       "41                   BCO BRADESCO S.A.  308284917.0  16917680.0  211873006.0   \n",
       "731         PAGSEGURO INTERNET IP S.A.  366892961.0   8685597.0   47657952.0   \n",
       "..                                 ...          ...         ...          ...   \n",
       "752        RAS SERVIÇOS DIGITAIS LTDA.          0.0         0.0          0.0   \n",
       "694                  IPC ADMINISTRACAO          3.0         0.0          0.0   \n",
       "845                            VIATECH          1.0         0.0          0.0   \n",
       "744                             PINPAG          1.0         0.0          0.0   \n",
       "748                           PRIMEPAG          1.0         0.0          0.0   \n",
       "\n",
       "TipoChave      Celular       e-mail         Total  \n",
       "720        507757868.0  429625103.0  2.205834e+09  \n",
       "95         345229300.0  200860500.0  1.877792e+09  \n",
       "742        117633043.0  110640355.0  9.414878e+08  \n",
       "41         183419240.0  127747858.0  8.482427e+08  \n",
       "731         93215746.0   86682036.0  6.031343e+08  \n",
       "..                 ...          ...           ...  \n",
       "752                0.0          3.0  3.000000e+00  \n",
       "694                0.0          0.0  3.000000e+00  \n",
       "845                0.0          0.0  1.000000e+00  \n",
       "744                0.0          0.0  1.000000e+00  \n",
       "748                0.0          0.0  1.000000e+00  \n",
       "\n",
       "[856 rows x 7 columns]"
      ]
     },
     "execution_count": 15,
     "metadata": {},
     "output_type": "execute_result"
    }
   ],
   "source": [
    "# Agrupar pelos valores da coluna 'Nome' e 'TipoChave' e somar a quantidade de chaves\n",
    "total_chaves_por_tipo = df.groupby(['Nome', 'TipoChave'])['qtdChaves'].sum().reset_index()\n",
    "# Pivotar a tabela para ter os tipos de chave como colunas\n",
    "total_chaves_por_tipo = total_chaves_por_tipo.pivot_table(index='Nome', columns='TipoChave', values='qtdChaves', aggfunc='sum').reset_index()\n",
    "# Preencher valores NaN com 0 (caso não haja ocorrências de algum tipo de chave para uma instituição)\n",
    "total_chaves_por_tipo = total_chaves_por_tipo.fillna(0)\n",
    "\n",
    "# Adicionar uma coluna \"Total\" com a soma das chaves PIX para cada instituição\n",
    "total_chaves_por_tipo['Total'] = total_chaves_por_tipo.sum(axis=1)\n",
    "\n",
    "# Ordenar o DataFrame pelo total de chaves PIX de forma decrescente\n",
    "total_chaves_por_tipo = total_chaves_por_tipo.sort_values(by='Total', ascending=False)\n",
    "\n",
    "# Exibir o resultado\n",
    "\n",
    "total_chaves_por_tipo\n"
   ]
  },
  {
   "cell_type": "markdown",
   "id": "6468f8a9",
   "metadata": {},
   "source": [
    "Aqui existe uma variação por tipo de cadastro, que deve ser observado posterirmente"
   ]
  },
  {
   "cell_type": "markdown",
   "id": "9509f2b2",
   "metadata": {},
   "source": [
    "### Quais são os picos e quedas no registro de chaves PIX por dia?"
   ]
  },
  {
   "cell_type": "code",
   "execution_count": 16,
   "id": "4a8e945c",
   "metadata": {},
   "outputs": [
    {
     "data": {
      "image/png": "[encoded data removed]"
     },
     "metadata": {},
     "output_type": "display_data"
    }
   ],
   "source": [
    "# Agrupar os dados por data e somar a quantidade de chaves\n",
    "chaves_por_data = df.groupby('Dia')['qtdChaves'].sum().reset_index()\n",
    "\n",
    "# Criar o gráfico de linha para visualizar os registros ao longo do tempo\n",
    "fig = px.line(chaves_por_data, \n",
    "              x='Dia', \n",
    "              y='qtdChaves', \n",
    "              title='Picos e Quedas no Registro de Chaves PIX por dia',\n",
    "              labels={'Data': 'Data', 'qtdChaves': 'Quantidade de Chaves'},\n",
    "              template='plotly_white')\n",
    "\n",
    "# Exibir o gráfico\n",
    "fig.show()"
   ]
  },
  {
   "cell_type": "markdown",
   "id": "1213e33f",
   "metadata": {},
   "source": [
    " Os cadastros ocorreram sempre no final do mês a partir do dia 28 e  houve um pico de aumento de chaves cadastradas que se prolongou a partir do dia 29 , isso pode ser resultado de datas de pagamentos de proventos "
   ]
  },
  {
   "cell_type": "markdown",
   "id": "0ba72ff2",
   "metadata": {},
   "source": [
    "### Quais são os picos e quedas no registro de chaves PIX por dia?"
   ]
  },
  {
   "cell_type": "code",
   "execution_count": 17,
   "id": "74807023",
   "metadata": {},
   "outputs": [
    {
     "data": {
      "image/png": "[encoded data removed]"
     },
     "metadata": {},
     "output_type": "display_data"
    }
   ],
   "source": [
    "# Agrupar os dados por data e somar a quantidade de chaves\n",
    "chaves_por_data = df.groupby('Mes')['qtdChaves'].sum().reset_index()\n",
    "\n",
    "# Criar o gráfico de linha para visualizar os registros ao longo do tempo\n",
    "fig = px.line(chaves_por_data, \n",
    "              x='Mes', \n",
    "              y='qtdChaves', \n",
    "              title='Picos e Quedas no Registro de Chaves PIX por Mês',\n",
    "              labels={'Data': 'Data', 'qtdChaves': 'Quantidade de Chaves'},\n",
    "              template='plotly_white')\n",
    "\n",
    "# Exibir o gráfico\n",
    "fig.show()"
   ]
  },
  {
   "cell_type": "markdown",
   "id": "a62e9623",
   "metadata": {},
   "source": [
    "O primeiro semestre são os periodos de maior chaves cadastradas, isso requer uma investigação pois pode ser por influência economica, existe essa sazonalidade no mês 2 ao 5  "
   ]
  },
  {
   "cell_type": "markdown",
   "id": "eeffc143",
   "metadata": {},
   "source": [
    "### Soma de chaves cadastradas por natureza por instituição"
   ]
  },
  {
   "cell_type": "code",
   "execution_count": 18,
   "id": "f0ba3564",
   "metadata": {},
   "outputs": [
    {
     "data": {
      "text/html": [
       "<div>\n",
       "<style scoped>\n",
       "    .dataframe tbody tr th:only-of-type {\n",
       "        vertical-align: middle;\n",
       "    }\n",
       "\n",
       "    .dataframe tbody tr th {\n",
       "        vertical-align: top;\n",
       "    }\n",
       "\n",
       "    .dataframe thead th {\n",
       "        text-align: right;\n",
       "    }\n",
       "</style>\n",
       "<table border=\"1\" class=\"dataframe\">\n",
       "  <thead>\n",
       "    <tr style=\"text-align: right;\">\n",
       "      <th></th>\n",
       "      <th>NaturezaUsuario</th>\n",
       "      <th>qtdChaves</th>\n",
       "      <th>Percentual</th>\n",
       "    </tr>\n",
       "  </thead>\n",
       "  <tbody>\n",
       "    <tr>\n",
       "      <th>0</th>\n",
       "      <td>PF</td>\n",
       "      <td>10709208056</td>\n",
       "      <td>95.215444</td>\n",
       "    </tr>\n",
       "    <tr>\n",
       "      <th>1</th>\n",
       "      <td>PJ</td>\n",
       "      <td>538135500</td>\n",
       "      <td>4.784556</td>\n",
       "    </tr>\n",
       "  </tbody>\n",
       "</table>\n",
       "</div>"
      ],
      "text/plain": [
       "  NaturezaUsuario    qtdChaves  Percentual\n",
       "0              PF  10709208056   95.215444\n",
       "1              PJ    538135500    4.784556"
      ]
     },
     "execution_count": 18,
     "metadata": {},
     "output_type": "execute_result"
    }
   ],
   "source": [
    "chaves_por_natureza = df.groupby('NaturezaUsuario')['qtdChaves'].sum().reset_index()\n",
    "\n",
    "# Calcular o total de chaves\n",
    "total_chaves = chaves_por_natureza['qtdChaves'].sum()\n",
    "\n",
    "# Adicionar uma coluna com o percentual de cada categoria\n",
    "chaves_por_natureza['Percentual'] = (chaves_por_natureza['qtdChaves'] / total_chaves) * 100\n",
    "\n",
    "# Exibir o resultado\n",
    "chaves_por_natureza"
   ]
  },
  {
   "cell_type": "markdown",
   "id": "6defe23b",
   "metadata": {},
   "source": [
    "A maioria das chaves cadastradas são de pessoas físicas, isso pode ocorrer pela gratuidade do cadastramento e da quantidade de usuários"
   ]
  },
  {
   "cell_type": "markdown",
   "id": "bce3ce3e",
   "metadata": {},
   "source": [
    "### Top 50 em cadastramento de chaves por natureza "
   ]
  },
  {
   "cell_type": "code",
   "execution_count": 19,
   "id": "12bcabe4",
   "metadata": {},
   "outputs": [
    {
     "data": {
      "image/png": "[encoded data removed]"
     },
     "metadata": {},
     "output_type": "display_data"
    }
   ],
   "source": [
    "### Soma das 50 maiores instituição com  chaves cadastradas  e por natureza por instituição\n",
    "chaves_por_natureza_agr = df.groupby(['Nome', 'NaturezaUsuario'])['qtdChaves'].sum().reset_index()\n",
    "chaves_por_natureza_agr=chaves_por_natureza_agr.sort_values(by='qtdChaves', ascending= False)\n",
    "chaves_por_natureza_agr_50=chaves_por_natureza_agr.head(50)\n",
    "chaves_por_natureza_agr_50\n",
    "fig = px.bar(chaves_por_natureza_agr_50, x='qtdChaves', y='Nome', \n",
    "             color='NaturezaUsuario',  # Adicionar a natureza do usuário como cor\n",
    "             title='Top 50 Instituições por Quantidade de Chaves PIX por Natureza',\n",
    "             labels={'Nome': 'Instituição', 'qtdChaves': 'Quantidade de Chaves', 'NaturezaUsuario': 'Natureza do Usuário'},\n",
    "             template='plotly_white',  orientation='h'\n",
    "        )\n",
    "\n",
    "fig.show()"
   ]
  },
  {
   "cell_type": "markdown",
   "id": "1a37216b",
   "metadata": {},
   "source": [
    "Aqui se confirma que a maioria das chaves são realmente de pessoas físicas com destaque a nubank , Picpay e pagseguro com maior cadastramentos"
   ]
  },
  {
   "cell_type": "markdown",
   "id": "d88b0340",
   "metadata": {},
   "source": [
    "## Conclusão dos Insights"
   ]
  },
  {
   "cell_type": "markdown",
   "id": "8cbad373",
   "metadata": {},
   "source": [
    "- Periodo analisado de 1 ano e 4 meses temos com tipos de chaves cadastrados: e-mail 25.411553%, Aleatória 25.201097% e Celular 24.823692%, essas preferências pode ser atrelado a questão da segurança das informações pessoais, haja visto que maioria dos cadastros são de pessoas fisicas com 95% das chaves cadastradas.  \n",
    "\n",
    "- Aqui já percebe-se que a NU_PAGAMENTOS,CAIXA ECONOMICA E PICPAY, destaca-se em quantidade de chaves cadastrada isso pode ser devido a sua popularidade ou até mesmo campanha de marketing, mas tem que ser verificados\n",
    "\n",
    "- O primeiro semestre são os periodos com maior chaves cadastradas, isso requer uma investigação pois pode ser por influência economica, existe aumento no mês 1 ao 5  e queda a partir de junho, existe uma sazonalidade de queda a partir de junho.\n",
    "\n",
    "-  Os cadastros ocorreram sempre no final do mês a partir do dia 28 e  houve um pico de aumento de chaves cadastradas que se prolongou a partir do dia 29 , isso pode ser resultado de datas de pagamentos de proventos \n",
    "\n",
    "- \n",
    "\n",
    "\n"
   ]
  },
  {
   "cell_type": "markdown",
   "id": "d781ef8d",
   "metadata": {},
   "source": [
    "# Considerações Finais"
   ]
  },
  {
   "cell_type": "markdown",
   "id": "bc580c69",
   "metadata": {},
   "source": [
    "- Email, chaves aleatórias e celular, são chaves preferenciais dos usuários\n",
    "- 95% dos usuários do Pix são pessoas físicas\n",
    "- Faz seus cadastro no final do Mês e no primeiro semestre\n",
    "- Nu_pagamentos,Caixa economica ,Picpay e Pagseguro são os líderes em chaves cadastradas\n"
   ]
  },
  {
   "cell_type": "markdown",
   "id": "db4fd4d1",
   "metadata": {},
   "source": [
    "# Trabalhos futuros\n",
    "- Estudo Longitudinal da Adoção: Realizar um estudo longitudinal para observar como a adoção do PIX evolui ao longo do tempo. Isso pode incluir análises detalhadas de como diferentes grupos demográficos (por idade, região, etc.) estão adotando o PIX.\n",
    "\n",
    "- Engajamento do Usuário: Analisar o engajamento dos usuários com o PIX, como frequência de uso, valores médios transacionados, e tipos de transações mais comuns. Isso pode ajudar a identificar padrões de comportamento e oportunidades para aumentar o engajamento.\n",
    "\n",
    "- Impacto nas Micro e Pequenas Empresas: Estudar como o PIX está impactando micro e pequenas empresas em termos de facilidade de recebimento de pagamentos, fluxo de caixa e custos operacionais.\n",
    "\n",
    "- Análise de Fraudes e Segurança: Realizar uma análise detalhada dos incidentes de fraude e segurança relacionados ao PIX. Isso pode ajudar a identificar vulnerabilidades e desenvolver estratégias para mitigar riscos."
   ]
  },
  {
   "cell_type": "code",
   "execution_count": null,
   "id": "9d158640",
   "metadata": {},
   "outputs": [],
   "source": []
  }
 ],
 "metadata": {
  "kernelspec": {
   "display_name": "Python 3 (ipykernel)",
   "language": "python",
   "name": "python3"
  },
  "language_info": {
   "codemirror_mode": {
    "name": "ipython",
    "version": 3
   },
   "file_extension": ".py",
   "mimetype": "text/x-python",
   "name": "python",
   "nbconvert_exporter": "python",
   "pygments_lexer": "ipython3",
   "version": "3.11.4"
  }
 },
 "nbformat": 4,
 "nbformat_minor": 5
}
